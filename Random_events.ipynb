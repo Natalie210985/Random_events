{
  "nbformat": 4,
  "nbformat_minor": 0,
  "metadata": {
    "colab": {
      "provenance": [],
      "authorship_tag": "ABX9TyOW0h2JczeEmSXPVl8R8E+7",
      "include_colab_link": true
    },
    "kernelspec": {
      "name": "python3",
      "display_name": "Python 3"
    },
    "language_info": {
      "name": "python"
    }
  },
  "cells": [
    {
      "cell_type": "markdown",
      "metadata": {
        "id": "view-in-github",
        "colab_type": "text"
      },
      "source": [
        "<a href=\"https://colab.research.google.com/github/Natalie210985/Random_events/blob/main/Random_events.ipynb\" target=\"_parent\"><img src=\"https://colab.research.google.com/assets/colab-badge.svg\" alt=\"Open In Colab\"/></a>"
      ]
    },
    {
      "cell_type": "code",
      "execution_count": 1,
      "metadata": {
        "id": "mti1VL6y_W5A"
      },
      "outputs": [],
      "source": [
        "import numpy as np"
      ]
    },
    {
      "cell_type": "code",
      "source": [
        "trials = 1_000_000     # Количество попыток\n",
        "result = 0             # Количество результатов\n",
        "results_list = []"
      ],
      "metadata": {
        "id": "ZAvhuMOy_16Z"
      },
      "execution_count": 10,
      "outputs": []
    },
    {
      "cell_type": "code",
      "source": [
        "for i in range(trials):\n",
        "    random_score = np.random.randint(0, 1000)    # Случайное число от 0 до 999\n",
        "    if random_score == 999:\n",
        "        results_list.append(100)\n",
        "    elif random_score == 777:\n",
        "        results_list.append(200)\n",
        "    elif random_score == 555:\n",
        "        results_list.append(50)\n",
        "    elif random_score == 333:\n",
        "        results_list.append(15)\n",
        "    elif random_score == 111:\n",
        "        results_list.append(10)\n",
        "    elif random_score % 100 == 77:\n",
        "        results_list.append(5)\n",
        "    elif random_score % 10 == 7:\n",
        "        results_list.append(3)    \n",
        "    elif random_score % 100 == 0:\n",
        "        results_list.append(2)\n",
        "    elif random_score % 10 == 0:\n",
        "        results_list.append(1)\n",
        "    else:\n",
        "        None\n",
        "        result += 1"
      ],
      "metadata": {
        "id": "ltidFPeG_0fL"
      },
      "execution_count": 12,
      "outputs": []
    },
    {
      "cell_type": "code",
      "source": [
        "profit = sum(results_list) - trials\n",
        "if profit > 0:\n",
        "    print('Игра выгодна. Выигрыш составляет:', profit, 'руб. c', trials, 'руб.')\n",
        "else:\n",
        "    print('Игра не выгодна. Проигрыш составляет:', profit, 'руб. c', trials, 'руб.')"
      ],
      "metadata": {
        "colab": {
          "base_uri": "https://localhost:8080/"
        },
        "id": "1tYBt98k_7aP",
        "outputId": "24d95b0c-e2f2-4071-fca2-d759bc2fd3d8"
      },
      "execution_count": 13,
      "outputs": [
        {
          "output_type": "stream",
          "name": "stdout",
          "text": [
            "Игра выгодна. Выигрыш составляет: 619723 руб. c 1000000 руб.\n"
          ]
        }
      ]
    },
    {
      "cell_type": "code",
      "source": [
        "games = 100      # Количество игр\n",
        "profit = 0      # Количество прибыли от игры\n",
        "profit_list = []"
      ],
      "metadata": {
        "id": "7K9bcBm-AcQd"
      },
      "execution_count": 14,
      "outputs": []
    },
    {
      "cell_type": "code",
      "source": [
        "for x in range(games):\n",
        "    trials = 10000    # Количество попыток\n",
        "    result = 0       # Количество результатов\n",
        "    results_list = []\n",
        "    for i in range(trials):\n",
        "        random_score = np.random.randint(0, 1000)    # Случайное число от 0 до 999\n",
        "        if random_score == 999:\n",
        "            results_list.append(100)\n",
        "        elif random_score == 777:\n",
        "            results_list.append(200)\n",
        "        elif random_score == 555:\n",
        "            results_list.append(50)\n",
        "        elif random_score == 333:\n",
        "            results_list.append(15)\n",
        "        elif random_score == 111:\n",
        "            results_list.append(10)\n",
        "        elif random_score % 100 == 77:\n",
        "            results_list.append(5)\n",
        "        elif random_score % 10 == 7:\n",
        "            results_list.append(3)        \n",
        "        elif random_score % 100 == 0:\n",
        "            results_list.append(2)\n",
        "        elif random_score % 10 == 0:\n",
        "            results_list.append(1)\n",
        "        else:\n",
        "            results_list.append(0)\n",
        "            result += 1\n",
        "    profit = sum(results_list) - trials\n",
        "    profit_list.append(profit)\n",
        "    profit += 1\n",
        "avarage_profit = round(sum(profit_list) / games)\n",
        "if avarage_profit > 0:\n",
        "    print('Игра, в среднем, выгодна. В среднем выигрыш составляет:', avarage_profit, 'руб. c', trials, 'руб.')\n",
        "else:\n",
        "    print('Игра, в среднем, не выгодна. В среднем проигрыш составляет:', avarage_profit, 'руб. c', trials, 'руб.')"
      ],
      "metadata": {
        "colab": {
          "base_uri": "https://localhost:8080/"
        },
        "id": "WvSeeVdoApQY",
        "outputId": "7fe91b60-3936-4c30-ae7e-7b0ef3f264ae"
      },
      "execution_count": 15,
      "outputs": [
        {
          "output_type": "stream",
          "name": "stdout",
          "text": [
            "Игра, в среднем, не выгодна. В среднем проигрыш составляет: -2013 руб. c 10000 руб.\n"
          ]
        }
      ]
    },
    {
      "cell_type": "code",
      "source": [
        "res = 0.001*(200 + 100 + 50 + 15 + 10) + (9/1000)*5 + (10/1000)*2 + ((99-9)/1000)*3 + ((100-10)/1000)*1\n",
        "res"
      ],
      "metadata": {
        "colab": {
          "base_uri": "https://localhost:8080/"
        },
        "id": "J5fWHp2ZBKJC",
        "outputId": "2f44f451-1bd7-466a-9db8-c83db2f253b6"
      },
      "execution_count": 17,
      "outputs": [
        {
          "output_type": "execute_result",
          "data": {
            "text/plain": [
              "0.7999999999999999"
            ]
          },
          "metadata": {},
          "execution_count": 17
        }
      ]
    }
  ]
}